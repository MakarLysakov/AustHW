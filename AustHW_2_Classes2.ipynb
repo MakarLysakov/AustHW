{
 "cells": [
  {
   "cell_type": "code",
   "execution_count": 2,
   "metadata": {},
   "outputs": [
    {
     "name": "stdout",
     "output_type": "stream",
     "text": [
      "2 2 2 4\n"
     ]
    }
   ],
   "source": [
    "#Problem 1\n",
    "\n",
    "class quaternion:\n",
    "    def __init__(self, x1, x2, x3, x4):\n",
    "        self.x1 = x1\n",
    "        self.x2 = x2\n",
    "        self.x3 = x3\n",
    "        self.x4 = x4\n",
    "    def __add__(self, other):\n",
    "        return quaternion(self.x1 + other.x1, self.x2 + other.x1, \\\n",
    "                          self.x3 + other.x3, self.x4 + other.x4)\n",
    "    def __mul__(self, other):\n",
    "        return quaternion(self.x1 * other.x1, self.x2 * other.x1, \\\n",
    "                          self.x3 * other.x3, self.x4 * other.x4)\n",
    "z1 = quaternion(1,1,1,1)\n",
    "z2 = quaternion(2,2,2,4)\n",
    "z3 = z1 * z2\n",
    "print(z3.x1, z3.x2, z3.x3, z3.x4)"
   ]
  },
  {
   "cell_type": "code",
   "execution_count": 36,
   "metadata": {},
   "outputs": [
    {
     "name": "stdout",
     "output_type": "stream",
     "text": [
      "40.0\n",
      "True\n"
     ]
    }
   ],
   "source": [
    "#Problem 2\n",
    "\n",
    "class ccy:\n",
    "    def __init__(self, value:float, currency:str):\n",
    "        self.value = value\n",
    "        self.currency = currency\n",
    "        if self.currency == 'USD':\n",
    "            self.tmp_value = round((self.value / 1.1), 2)\n",
    "        elif self.currency == 'CAD':\n",
    "            self.tmp_value = round((self.value / 1.39), 2)\n",
    "        elif self.currency == 'JPY':\n",
    "            self.tmp_value = round((self.value / 131.49), 2)\n",
    "        else:\n",
    "            self.tmp_value = self.value\n",
    "    def __add__(self, other):\n",
    "        return self.tmp_value + other.tmp_value\n",
    "    def __eq__(self, other):\n",
    "        return self.tmp_value == other.tmp_value\n",
    "first = ccy(20, 'EUR')\n",
    "second = ccy(2629.8, 'JPY')\n",
    "\n",
    "#for sums two ccy's object use this example\n",
    "print(first + second)\n",
    "\n",
    "#for compares two ccy's object use this example\n",
    "print(first == second)"
   ]
  },
  {
   "cell_type": "code",
   "execution_count": 31,
   "metadata": {},
   "outputs": [],
   "source": [
    "#Problem 6 (a)\n",
    "\n",
    "f = open('ovid.txt', 'w')\n",
    "f.write('In nova fert animus mutatas dicere formas corpora; Di, coeptis nam vos mutastis et illas \\\n",
    "adspirate meis primaque ab origine mundi ad mea perpetuum deducite tempora carmen!')\n",
    "f.close()"
   ]
  },
  {
   "cell_type": "code",
   "execution_count": 29,
   "metadata": {},
   "outputs": [],
   "source": [
    "#Problem 6 (b)\n",
    "data = open('ovid.txt', 'r').read().replace(' ', '')\n",
    "\n",
    "f = open('ovid.txt', 'w').write(data)"
   ]
  },
  {
   "cell_type": "code",
   "execution_count": 32,
   "metadata": {},
   "outputs": [],
   "source": [
    "#Problem 6 (c)\n",
    "data = open('ovid.txt', 'r').read().replace('di', 'good')\n",
    "\n",
    "f = open('ovid.txt', 'w').write(data)"
   ]
  },
  {
   "cell_type": "code",
   "execution_count": 11,
   "metadata": {},
   "outputs": [
    {
     "data": {
      "text/plain": [
       "1.0"
      ]
     },
     "execution_count": 11,
     "metadata": {},
     "output_type": "execute_result"
    }
   ],
   "source": [
    "#Problem 4\n",
    "import time\n",
    "\n",
    "def a(n):\n",
    "    if n == 1:\n",
    "        return 1\n",
    "    else:\n",
    "        return (4 * a(n - 1)) / (3 * a(n - 1) + 3)\n",
    "\n",
    "def b(n):\n",
    "    if n == 1:\n",
    "        return 1.25\n",
    "    else:\n",
    "        return b(n - 1) ** 2 - 2 * b(n - 1) + 2\n",
    "\n",
    "def c(n):\n",
    "    if n == 1:\n",
    "        return 7.8\n",
    "    else:\n",
    "        return 0.5 * (c(n - 1) + (9 / c(n - 1)))\n",
    "    \n",
    "#включаем таймер"
   ]
  },
  {
   "cell_type": "code",
   "execution_count": 38,
   "metadata": {},
   "outputs": [
    {
     "data": {
      "text/plain": [
       "'I like cake.'"
      ]
     },
     "execution_count": 38,
     "metadata": {},
     "output_type": "execute_result"
    }
   ],
   "source": [
    "#Problem 5 (a)\n",
    "def sentence(*args):\n",
    "    sent = ''\n",
    "    for word in args:\n",
    "        sent += word + ' '\n",
    "    return sent[:-1]\n",
    "\n",
    "sentence('I', 'like', 'cake.')"
   ]
  },
  {
   "cell_type": "code",
   "execution_count": 42,
   "metadata": {},
   "outputs": [
    {
     "data": {
      "text/plain": [
       "6.0"
      ]
     },
     "execution_count": 42,
     "metadata": {},
     "output_type": "execute_result"
    }
   ],
   "source": [
    "#Problem 5 (b)\n",
    "\n",
    "def combine(*args):\n",
    "    if len(set([type(i) for i in args])) > 1:\n",
    "        return 'wrong input'\n",
    "    elif set([type(i) for i in args]) == {int}:\n",
    "        return sum(args)\n",
    "    elif set([type(i) for i in args]) == {float}:\n",
    "        mult = 1\n",
    "        for i in args:\n",
    "            mult *= i\n",
    "        return mult\n",
    "combine(1.0,2.0,3.0)"
   ]
  },
  {
   "cell_type": "code",
   "execution_count": null,
   "metadata": {},
   "outputs": [],
   "source": []
  }
 ],
 "metadata": {
  "kernelspec": {
   "display_name": "Python 3 (ipykernel)",
   "language": "python",
   "name": "python3"
  },
  "language_info": {
   "codemirror_mode": {
    "name": "ipython",
    "version": 3
   },
   "file_extension": ".py",
   "mimetype": "text/x-python",
   "name": "python",
   "nbconvert_exporter": "python",
   "pygments_lexer": "ipython3",
   "version": "3.10.5"
  }
 },
 "nbformat": 4,
 "nbformat_minor": 4
}
