{
 "cells": [
  {
   "cell_type": "code",
   "execution_count": 5,
   "id": "07abd669",
   "metadata": {},
   "outputs": [
    {
     "data": {
      "text/plain": [
       "[{1}, {2}, {3}]"
      ]
     },
     "execution_count": 5,
     "metadata": {},
     "output_type": "execute_result"
    }
   ],
   "source": [
    "#Problem 1(a)\n",
    "\n",
    "def split(s:set) -> list:\n",
    "    assert isinstance(s, set), 'function split applies only to the set'\n",
    "    return [{s.pop()} for i in range(len(s))]\n",
    "\n",
    "split({1,2,3})"
   ]
  },
  {
   "cell_type": "code",
   "execution_count": 20,
   "id": "ea8800e8",
   "metadata": {},
   "outputs": [
    {
     "name": "stdin",
     "output_type": "stream",
     "text": [
      "enter first complex number, example 3+2j 3+2j\n",
      "enter second complex number, example 4-1j 4-1j\n"
     ]
    },
    {
     "data": {
      "text/plain": [
       "(0.5882352941176471+0.6470588235294118j)"
      ]
     },
     "execution_count": 20,
     "metadata": {},
     "output_type": "execute_result"
    }
   ],
   "source": [
    "#Problem 2 and 6\n",
    "\n",
    "class Complex:\n",
    "    \"\"\"\n",
    "    This class named Complex, as input for this class need used only complex numbers\n",
    "    \n",
    "    Class Complex has three methods:\n",
    "    \"add\" - method return sum of two complex numbers\n",
    "    \"multiply\" - method return product of two complex numbers\n",
    "    \"divide\" - method return quotient of two complex numbers\n",
    "    \n",
    "    For using this class you must create class instance\n",
    "    Example:\n",
    "    example = Complex(first_number,second_number)\n",
    "    and after this you can call all methods\n",
    "    Example:\n",
    "    example.add()\n",
    "    \"\"\"\n",
    "    def __init__(self, z1:complex, z2:complex):\n",
    "        assert isinstance(z1, complex), 'first number is not complex'\n",
    "        assert isinstance(z2, complex), 'second number is not complex'\n",
    "        self.z1=z1\n",
    "        self.z2=z2\n",
    "    def add(self):\n",
    "        return self.z1 + self.z2\n",
    "    def multiply(self):\n",
    "        return self.z1 * self.z2\n",
    "    def divide(self):\n",
    "        return self.z1 / self.z2\n",
    "\n",
    "first_number = complex(input('enter first complex number, example 3+2j'))\n",
    "second_number = complex(input('enter second complex number, example 4-1j'))\n",
    "test = Complex(first_number,second_number)\n",
    "test.divide()"
   ]
  },
  {
   "cell_type": "code",
   "execution_count": 10,
   "id": "9d86abc8",
   "metadata": {},
   "outputs": [
    {
     "name": "stdout",
     "output_type": "stream",
     "text": [
      "\n",
      "    This class called Vector, as input for methods in this class need used two lists or list and scalar\n",
      "\n",
      "    Class has two methods:\n",
      "\n",
      "    \"add\" - method return sum of two vectors, also this method return product of two vectors\n",
      "    As input need used two list (length of the vectors must be the same)\n",
      "\n",
      "    Example:\n",
      "    Vector.add([1,2,3],[10,0,30]) -> ([11, 2, 33], 100)\n",
      "\n",
      "    \"scalar\" - method return of scalar multiplication by vector\n",
      "    As input need used vector and scalar (data type float)\n",
      "\n",
      "    Example:\n",
      "    Vector.scalar([1,2,3], 3.0) -> [3.0, 6.0, 9.0]\n",
      "    \n"
     ]
    }
   ],
   "source": [
    "#Problem 3 (a)\n",
    "#list(map(lambda x, y: x + y, a, b))\n",
    "\n",
    "import numpy as np\n",
    "\n",
    "\n",
    "\n",
    "class Vector:\n",
    "    \"\"\"\n",
    "    This class named Vector, as input for methods in this class need used two lists or list and scalar\n",
    "\n",
    "    Class has two methods:\n",
    "\n",
    "    \"add\" - method return sum of two vectors, also this method return product of two vectors\n",
    "    As input need used two list (length of the vectors must be the same)\n",
    "\n",
    "    Example:\n",
    "    Vector.add([1,2,3],[10,0,30]) -> ([11, 2, 33], 100)\n",
    "\n",
    "    \"scalar\" - method return of scalar multiplication by vector\n",
    "    As input need used vector and scalar (data type float)\n",
    "\n",
    "    Example:\n",
    "    Vector.scalar([1,2,3], 3.0) -> [3.0, 6.0, 9.0]\n",
    "    \"\"\"\n",
    "    def add(z1:list, z2:list):\n",
    "        assert isinstance(z1, list), 'first vector must be of data type list'\n",
    "        assert isinstance(z2, list), 'first vector must be of data type list'\n",
    "        assert (len(z1) == len(z2)), 'length of the vectors must be the same'\n",
    "        return (list(np.array(z1) + np.array(z2)), np.dot(z1,z2))\n",
    "    def scalar(z1:list, a:float):\n",
    "        assert isinstance(z1, list), 'first vector must be of data type list'\n",
    "        assert isinstance(a, float), 'scalar must be a float'\n",
    "        return(list(np.array(z1)*a))\n",
    "Vector.scalar([1,2,3],3.0)\n",
    "\n",
    "print(Vector.__doc__)"
   ]
  },
  {
   "cell_type": "code",
   "execution_count": 16,
   "id": "3e6e6eed",
   "metadata": {},
   "outputs": [
    {
     "data": {
      "text/plain": [
       "array([[10, 20, 30],\n",
       "       [20, 40, 60],\n",
       "       [30, 60, 90]])"
      ]
     },
     "execution_count": 16,
     "metadata": {},
     "output_type": "execute_result"
    }
   ],
   "source": [
    "#Problem 3 (b)\n",
    "\n",
    "class VectorPlus(Vector):\n",
    "    \"\"\"\n",
    "    VectorPlus it is inherited class of Vector, it's meaning class VectorPlus has all methods of class Vector\n",
    "    Also this class has new methods\n",
    "    \"outer\" - method return outer product of two vectors, as input you must use two list with same lenght.\n",
    "    \"inner\" - method return inner product of two vectors, as input you must use two list with same lenght.\n",
    "    \n",
    "    Example\n",
    "    example = VectorPlus.outer([1,2,3],[10,20,30])\n",
    "    \"\"\"\n",
    "    \n",
    "    def outer(z1:list, z2:list):\n",
    "        assert isinstance(z1, list), 'first vector must be of data type list'\n",
    "        assert isinstance(z2, list), 'first vector must be of data type list'\n",
    "        return np.outer(np.array(z1),np.array(z2))\n",
    "    def inner(z1:list, z2:list):\n",
    "        assert isinstance(z1, list), 'first vector must be of data type list'\n",
    "        assert isinstance(z2, list), 'first vector must be of data type list'\n",
    "        return np.inner(np.array(z1),np.array(z2))\n",
    "    \n",
    "VectorPlus.outer([1,2,3],[10,20,30])"
   ]
  },
  {
   "cell_type": "code",
   "execution_count": null,
   "id": "b447027e",
   "metadata": {},
   "outputs": [],
   "source": []
  }
 ],
 "metadata": {
  "kernelspec": {
   "display_name": "Python 3 (ipykernel)",
   "language": "python",
   "name": "python3"
  },
  "language_info": {
   "codemirror_mode": {
    "name": "ipython",
    "version": 3
   },
   "file_extension": ".py",
   "mimetype": "text/x-python",
   "name": "python",
   "nbconvert_exporter": "python",
   "pygments_lexer": "ipython3",
   "version": "3.10.5"
  }
 },
 "nbformat": 4,
 "nbformat_minor": 5
}
